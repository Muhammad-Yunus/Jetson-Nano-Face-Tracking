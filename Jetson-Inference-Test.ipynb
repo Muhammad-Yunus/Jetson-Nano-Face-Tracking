{
 "cells": [
  {
   "cell_type": "code",
   "execution_count": 2,
   "source": [
    "import jetson.inference, jetson.utils\n",
    "import cv2"
   ],
   "outputs": [],
   "metadata": {}
  },
  {
   "cell_type": "code",
   "execution_count": 3,
   "source": [
    "jetson.inference.VERSION"
   ],
   "outputs": [
    {
     "output_type": "execute_result",
     "data": {
      "text/plain": [
       "'1.0.0'"
      ]
     },
     "metadata": {},
     "execution_count": 3
    }
   ],
   "metadata": {}
  },
  {
   "cell_type": "code",
   "execution_count": 4,
   "source": [
    "jetson.utils.VERSION"
   ],
   "outputs": [
    {
     "output_type": "execute_result",
     "data": {
      "text/plain": [
       "'1.0.0'"
      ]
     },
     "metadata": {},
     "execution_count": 4
    }
   ],
   "metadata": {}
  },
  {
   "cell_type": "code",
   "execution_count": 5,
   "source": [
    "print(dir(jetson.utils))"
   ],
   "outputs": [
    {
     "output_type": "stream",
     "name": "stdout",
     "text": [
      "['VERSION', '__builtins__', '__cached__', '__doc__', '__file__', '__loader__', '__name__', '__package__', '__path__', '__spec__', 'adaptFontSize', 'cudaAllocMapped', 'cudaConvertColor', 'cudaCrop', 'cudaDeviceSynchronize', 'cudaDrawCircle', 'cudaDrawLine', 'cudaDrawRect', 'cudaFont', 'cudaFromNumpy', 'cudaImage', 'cudaMalloc', 'cudaMemcpy', 'cudaMemory', 'cudaNormalize', 'cudaOverlay', 'cudaResize', 'cudaToNumpy', 'glDisplay', 'gstCamera', 'loadImage', 'loadImageRGBA', 'logUsage', 'saveImage', 'saveImageRGBA', 'videoOutput', 'videoSource']\n"
     ]
    }
   ],
   "metadata": {}
  },
  {
   "cell_type": "code",
   "execution_count": 6,
   "source": [
    "print(dir(jetson.utils.videoSource))"
   ],
   "outputs": [
    {
     "output_type": "stream",
     "name": "stdout",
     "text": [
      "['Capture', 'Close', 'GetFrameRate', 'GetHeight', 'GetWidth', 'IsStreaming', 'Open', 'Usage', '__class__', '__delattr__', '__dir__', '__doc__', '__eq__', '__format__', '__ge__', '__getattribute__', '__gt__', '__hash__', '__init__', '__init_subclass__', '__le__', '__lt__', '__ne__', '__new__', '__reduce__', '__reduce_ex__', '__repr__', '__setattr__', '__sizeof__', '__str__', '__subclasshook__']\n"
     ]
    }
   ],
   "metadata": {}
  },
  {
   "cell_type": "code",
   "execution_count": 7,
   "source": [
    "#cap = jetson.utils.videoSource(\"csi://0\")  # MIPI CSI camera #0\n",
    "cap = jetson.utils.videoSource(\"/dev/video2\")  # V4L2 camera #0\n",
    "#cap = jetson.utils.videoSource(\"nemo_video.mp4\") "
   ],
   "outputs": [],
   "metadata": {}
  },
  {
   "cell_type": "code",
   "execution_count": 8,
   "source": [
    "print(cap.Usage())"
   ],
   "outputs": [
    {
     "output_type": "stream",
     "name": "stdout",
     "text": [
      "videoSource arguments: \n",
      "    input_URI            resource URI of the input stream, for example:\n",
      "                             * /dev/video0              (V4L2 camera #0)\n",
      "                             * csi://0                  (MIPI CSI camera #0)\n",
      "                             * rtp://@:1234             (RTP stream)\n",
      "                             * rtsp://user:pass@ip:1234 (RTSP stream)\n",
      "                             * file://my_image.jpg      (image file)\n",
      "                             * file://my_video.mp4      (video file)\n",
      "                             * file://my_directory/     (directory of images)\n",
      "  --input-width=WIDTH    explicitly request a width of the stream (optional)\n",
      "  --input-height=HEIGHT  explicitly request a height of the stream (optional)\n",
      "  --input-rate=RATE      explicitly request a framerate of the stream (optional)\n",
      "  --input-codec=CODEC    RTP requires the codec to be set, one of these:\n",
      "                             * h264, h265\n",
      "                             * vp8, vp9\n",
      "                             * mpeg2, mpeg4\n",
      "                             * mjpeg\n",
      "  --input-flip=FLIP      flip method to apply to input (excludes V4L2):\n",
      "                             * none (default)\n",
      "                             * counterclockwise\n",
      "                             * rotate-180\n",
      "                             * clockwise\n",
      "                             * horizontal\n",
      "                             * vertical\n",
      "                             * upper-right-diagonal\n",
      "                             * upper-left-diagonal\n",
      "  --input-loop=LOOP      for file-based inputs, the number of loops to run:\n",
      "                             * -1 = loop forever\n",
      "                             *  0 = don't loop (default)\n",
      "                             * >0 = set number of loops\n",
      "\n",
      "\n"
     ]
    }
   ],
   "metadata": {}
  },
  {
   "cell_type": "code",
   "execution_count": 9,
   "source": [
    "cap.IsStreaming()"
   ],
   "outputs": [
    {
     "output_type": "execute_result",
     "data": {
      "text/plain": [
       "False"
      ]
     },
     "metadata": {},
     "execution_count": 9
    }
   ],
   "metadata": {}
  },
  {
   "cell_type": "code",
   "execution_count": 10,
   "source": [
    "cap.Open()"
   ],
   "outputs": [],
   "metadata": {}
  },
  {
   "cell_type": "code",
   "execution_count": 11,
   "source": [
    "cap.IsStreaming()"
   ],
   "outputs": [
    {
     "output_type": "execute_result",
     "data": {
      "text/plain": [
       "True"
      ]
     },
     "metadata": {},
     "execution_count": 11
    }
   ],
   "metadata": {}
  },
  {
   "cell_type": "code",
   "execution_count": 12,
   "source": [
    "cap.GetFrameRate()"
   ],
   "outputs": [
    {
     "output_type": "execute_result",
     "data": {
      "text/plain": [
       "30"
      ]
     },
     "metadata": {},
     "execution_count": 12
    }
   ],
   "metadata": {}
  },
  {
   "cell_type": "code",
   "execution_count": 16,
   "source": [
    "w,h = cap.GetWidth(), cap.GetHeight()\n",
    "\n",
    "w,h"
   ],
   "outputs": [
    {
     "output_type": "execute_result",
     "data": {
      "text/plain": [
       "(1024, 768)"
      ]
     },
     "metadata": {},
     "execution_count": 16
    }
   ],
   "metadata": {}
  },
  {
   "cell_type": "code",
   "execution_count": 14,
   "source": [
    "img = cap.Capture()"
   ],
   "outputs": [],
   "metadata": {}
  },
  {
   "cell_type": "code",
   "execution_count": 15,
   "source": [
    "type(img)"
   ],
   "outputs": [
    {
     "output_type": "execute_result",
     "data": {
      "text/plain": [
       "jetson.utils.cudaImage"
      ]
     },
     "metadata": {},
     "execution_count": 15
    }
   ],
   "metadata": {}
  },
  {
   "cell_type": "code",
   "execution_count": 28,
   "source": [
    "print(dir(img))"
   ],
   "outputs": [
    {
     "output_type": "stream",
     "name": "stdout",
     "text": [
      "['__class__', '__delattr__', '__delitem__', '__dir__', '__doc__', '__eq__', '__format__', '__ge__', '__getattribute__', '__getitem__', '__gt__', '__hash__', '__init__', '__init_subclass__', '__le__', '__len__', '__lt__', '__ne__', '__new__', '__reduce__', '__reduce_ex__', '__repr__', '__setattr__', '__setitem__', '__sizeof__', '__str__', '__subclasshook__', 'channels', 'format', 'freeOnDelete', 'height', 'mapped', 'ptr', 'shape', 'size', 'width']\n"
     ]
    }
   ],
   "metadata": {}
  },
  {
   "cell_type": "code",
   "execution_count": 36,
   "source": [
    "img.height, img.width, img.channels, img.shape, img.size, img.ptr, img.format, "
   ],
   "outputs": [
    {
     "output_type": "execute_result",
     "data": {
      "text/plain": [
       "(768, 1024, 3, (768, 1024, 3), 2359296, 4315086848, 'rgb8')"
      ]
     },
     "metadata": {},
     "execution_count": 36
    }
   ],
   "metadata": {}
  },
  {
   "cell_type": "code",
   "execution_count": 37,
   "source": [
    "img.mapped"
   ],
   "outputs": [
    {
     "output_type": "execute_result",
     "data": {
      "text/plain": [
       "True"
      ]
     },
     "metadata": {},
     "execution_count": 37
    }
   ],
   "metadata": {}
  },
  {
   "cell_type": "code",
   "execution_count": 40,
   "source": [
    "cuImg = cv2.cuda_GpuMat()\n",
    "cuImg.create((w, h), cv2.CV_8UC3)"
   ],
   "outputs": [],
   "metadata": {}
  },
  {
   "cell_type": "code",
   "execution_count": 41,
   "source": [
    "cuImg.upload(jetson.utils.cudaToNumpy(img))"
   ],
   "outputs": [],
   "metadata": {}
  },
  {
   "cell_type": "code",
   "execution_count": 45,
   "source": [
    "cuImg.size(), cuImg.channels()"
   ],
   "outputs": [
    {
     "output_type": "execute_result",
     "data": {
      "text/plain": [
       "((1024, 768), 3)"
      ]
     },
     "metadata": {},
     "execution_count": 45
    }
   ],
   "metadata": {}
  },
  {
   "cell_type": "code",
   "execution_count": 46,
   "source": [
    "cuGray = cv2.cuda_GpuMat()\n",
    "cuGray.create((w, h), cv2.CV_8UC1)"
   ],
   "outputs": [],
   "metadata": {}
  },
  {
   "cell_type": "code",
   "execution_count": null,
   "source": [
    "\n",
    "while cap.IsStreaming :\n",
    "    cuImg.upload(jetson.utils.cudaToNumpy(cap.Capture()))\n",
    "\n",
    "    cv2.cuda.cvtColor(cuImg, cv2.COLOR_BGR2GRAY, cuGray)\n",
    "\n",
    "    #gray = cuGray.download()\n",
    "    cv2.imshow(\"Stream Output\", cuGray)\n",
    "\n",
    "    if cv2.waitKey(1) == ord(\"q\"):\n",
    "        break\n",
    "\n",
    "cap.Close()\n",
    "cv2.destroyAllWindows()"
   ],
   "outputs": [],
   "metadata": {}
  },
  {
   "cell_type": "code",
   "execution_count": null,
   "source": [],
   "outputs": [],
   "metadata": {}
  }
 ],
 "metadata": {
  "orig_nbformat": 4,
  "language_info": {
   "name": "python",
   "version": "3.6.9",
   "mimetype": "text/x-python",
   "codemirror_mode": {
    "name": "ipython",
    "version": 3
   },
   "pygments_lexer": "ipython3",
   "nbconvert_exporter": "python",
   "file_extension": ".py"
  },
  "kernelspec": {
   "name": "python3",
   "display_name": "Python 3.6.9 64-bit"
  },
  "interpreter": {
   "hash": "31f2aee4e71d21fbe5cf8b01ff0e069b9275f58929596ceb00d14d90e3e16cd6"
  }
 },
 "nbformat": 4,
 "nbformat_minor": 2
}